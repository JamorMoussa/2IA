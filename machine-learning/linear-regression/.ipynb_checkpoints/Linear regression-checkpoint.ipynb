{
 "cells": [
  {
   "cell_type": "markdown",
   "id": "9aa42bf1-62d0-4775-9698-20c97892e762",
   "metadata": {},
   "source": [
    "# Linear Regression  \n",
    "> #### Moussa JAMOR :\n",
    "> [https://github.com/JamorMoussa/2IA](https://github.com/JamorMoussa/2IA)"
   ]
  },
  {
   "cell_type": "markdown",
   "id": "3f8adabb-abf6-42f7-a636-41f5c895395d",
   "metadata": {},
   "source": [
    "## Contents:\n",
    "* #### [The Math of Linear Regression](#m1)"
   ]
  },
  {
   "cell_type": "markdown",
   "id": "9165f528-fc2c-457a-bbad-b4b1ef03e174",
   "metadata": {},
   "source": [
    "## The Math of Linear Regression <a class=\"anchor\" id=\"m1\"></a>"
   ]
  },
  {
   "cell_type": "code",
   "execution_count": null,
   "id": "1cdb98c3-30d7-4651-8bee-8dc1f9077edd",
   "metadata": {},
   "outputs": [],
   "source": []
  },
  {
   "cell_type": "code",
   "execution_count": null,
   "id": "f22d17e8-6e03-4d32-aff5-f9144c776896",
   "metadata": {},
   "outputs": [],
   "source": []
  },
  {
   "cell_type": "code",
   "execution_count": null,
   "id": "4b4ce7a8-edb1-4dea-a6bf-266acd22178a",
   "metadata": {},
   "outputs": [],
   "source": []
  },
  {
   "cell_type": "code",
   "execution_count": null,
   "id": "6793fa0f-50ec-4b40-92e7-d3f4d400ef5a",
   "metadata": {},
   "outputs": [],
   "source": []
  },
  {
   "cell_type": "code",
   "execution_count": null,
   "id": "e9876f0b-b625-45f9-91a6-2ff3f60005bf",
   "metadata": {},
   "outputs": [],
   "source": []
  },
  {
   "cell_type": "code",
   "execution_count": null,
   "id": "5424f6f4-3fe2-4ab1-bae1-c134344fc6c6",
   "metadata": {},
   "outputs": [],
   "source": []
  },
  {
   "cell_type": "code",
   "execution_count": null,
   "id": "81d19e78-fda7-4559-aa8d-53a8c494b81d",
   "metadata": {},
   "outputs": [],
   "source": []
  },
  {
   "cell_type": "code",
   "execution_count": null,
   "id": "846bc320-ab99-45d9-a1fe-3e5870d74462",
   "metadata": {},
   "outputs": [],
   "source": []
  }
 ],
 "metadata": {
  "kernelspec": {
   "display_name": "Python 3 (ipykernel)",
   "language": "python",
   "name": "python3"
  },
  "language_info": {
   "codemirror_mode": {
    "name": "ipython",
    "version": 3
   },
   "file_extension": ".py",
   "mimetype": "text/x-python",
   "name": "python",
   "nbconvert_exporter": "python",
   "pygments_lexer": "ipython3",
   "version": "3.11.6"
  }
 },
 "nbformat": 4,
 "nbformat_minor": 5
}
