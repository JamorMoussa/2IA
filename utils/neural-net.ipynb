{
 "cells": [
  {
   "cell_type": "markdown",
   "id": "b9e20c8b-26f9-4f82-a16e-edd5614ac120",
   "metadata": {},
   "source": [
    "# Neural Network from scratch : "
   ]
  },
  {
   "cell_type": "code",
   "execution_count": 222,
   "id": "815e910d-ba63-4f3f-bd18-48729b99342a",
   "metadata": {},
   "outputs": [],
   "source": [
    "import numpy as np\n",
    "from abc import ABC, abstractmethod\n",
    "from typing import Union\n",
    "import matplotlib.pyplot as plt"
   ]
  },
  {
   "cell_type": "code",
   "execution_count": 366,
   "id": "e6f76d7c-1868-4130-b6b0-0a20f3548a51",
   "metadata": {},
   "outputs": [],
   "source": [
    "class Tensor(np.ndarray):\n",
    "\n",
    "    def __new__(cls, input: Tensor):\n",
    "        if not isinstance(input, np.ndarray): input = np.array(input)\n",
    "        if input.ndim ==1 : input = input.reshape(1, -1)\n",
    "        \n",
    "        obj = np.asanyarray(input).view(cls)\n",
    "\n",
    "        return obj\n",
    "\n",
    "    @staticmethod\n",
    "    def rand(*shape: tuple[int]) -> Tensor:\n",
    "        return Tensor(np.random.rand(*shape))\n",
    "\n",
    "    @staticmethod\n",
    "    def zeros(*shape: tuple[int]) -> Tensor:\n",
    "        return Tensor(np.zeros(shape))\n",
    "    \n",
    "    @staticmethod\n",
    "    def dot(t1: Tensor, t2: Tensor) -> Tensor:\n",
    "        return Tensor(np.dot(t1, t2))"
   ]
  },
  {
   "cell_type": "code",
   "execution_count": 367,
   "id": "3d67a30f-abf9-4fdc-b403-fa6ccc3db6cf",
   "metadata": {},
   "outputs": [],
   "source": [
    "class Layer(ABC):\n",
    "    weights: Tensor\n",
    "    \n",
    "    @abstractmethod\n",
    "    def forward(self, input: Tensor) -> Tensor:\n",
    "        ... \n",
    "\n",
    "    @abstractmethod\n",
    "    def backward(self, output_dE: Tensor) -> Tensor:\n",
    "        ...\n",
    "    \n",
    "    def __call__(self, input: Tensor) -> Tensor:\n",
    "        return self.forward(input)\n",
    "    \n",
    "    def __repr__(self) -> str:\n",
    "        return f\"{self.__class__.__name__}({self.weights})\""
   ]
  },
  {
   "cell_type": "markdown",
   "id": "a03f1338-c7d8-4457-8855-4417b7a871eb",
   "metadata": {},
   "source": [
    "make Linear Layer"
   ]
  },
  {
   "cell_type": "code",
   "execution_count": 503,
   "id": "e8dfeda3-8210-4eb8-a8e7-590eeaf98e4c",
   "metadata": {},
   "outputs": [],
   "source": [
    "class Linear(Layer):\n",
    "\n",
    "    def __init__(self, *shape: tuple[int]):\n",
    "\n",
    "        self.weights = Tensor.rand(*shape)\n",
    "        self.grad = Tensor.zeros(*shape)\n",
    "        self.input = Tensor.zeros(*shape)\n",
    "        self.p_shape = shape\n",
    "        \n",
    "    def forward(self, input: Tensor) -> Tensor:\n",
    "        self.input = input\n",
    "        return Tensor.dot(input, self.weights)\n",
    "\n",
    "    def backward(self, outdE: Tensor) -> Tensor:\n",
    "        self.grad = Tensor.dot(self.input.T, outdE)\n",
    "        return Tensor.dot(outdE, self.weights.T)\n"
   ]
  },
  {
   "cell_type": "code",
   "execution_count": 504,
   "id": "a741c793-36e7-4d4f-9327-2c2ae9fae20a",
   "metadata": {},
   "outputs": [],
   "source": [
    "class Optimizer:\n",
    "\n",
    "    def __init__(self, parameters: Linear, lr=0.01):\n",
    "        self.parameters = parameters \n",
    "        self.lr = lr \n",
    "\n",
    "    def zero_grad(self):\n",
    "        self.parameters.grad = Tensor.zeros(*self.parameters.p_shape)\n",
    "\n",
    "    def step(self):\n",
    "        self.parameters.weights -= self.lr * self.parameters.grad"
   ]
  },
  {
   "cell_type": "code",
   "execution_count": 505,
   "id": "54cd8570-d739-43fb-adc9-d05a7c8b8154",
   "metadata": {},
   "outputs": [],
   "source": [
    "class MSELoss:\n",
    "\n",
    "    def __init__(self, parameters: Linear):\n",
    "        self.parameters = parameters\n",
    "\n",
    "    def backward(self, y_pred: Tensor, y: Tensor):\n",
    "        grad = Tensor((y_pred - y))\n",
    "        self.parameters.backward(grad)"
   ]
  },
  {
   "cell_type": "code",
   "execution_count": 506,
   "id": "fe85ad9b-a133-44d7-841e-df3f08f05e89",
   "metadata": {},
   "outputs": [],
   "source": [
    "data = np.loadtxt(\"./datalg.csv\", delimiter=',')"
   ]
  },
  {
   "cell_type": "code",
   "execution_count": 507,
   "id": "d9ab83fc-e66a-47f0-b042-e357f390e364",
   "metadata": {},
   "outputs": [],
   "source": [
    "X, y = data[:, :-1], data[:, -1]"
   ]
  },
  {
   "cell_type": "code",
   "execution_count": 508,
   "id": "4e17a66d-1317-4130-ab9e-7deddcce0b95",
   "metadata": {},
   "outputs": [],
   "source": [
    "X, y = Tensor(X), Tensor(y).reshape(-1, 1)"
   ]
  },
  {
   "cell_type": "code",
   "execution_count": 509,
   "id": "86ef1706-72c8-48db-ae95-92db323909df",
   "metadata": {},
   "outputs": [
    {
     "data": {
      "text/plain": [
       "[<matplotlib.lines.Line2D at 0x7ff17fe76550>]"
      ]
     },
     "execution_count": 509,
     "metadata": {},
     "output_type": "execute_result"
    },
    {
     "data": {
      "image/png": "[encoded data removed]",
      "text/plain": [
       "<Figure size 640x480 with 1 Axes>"
      ]
     },
     "metadata": {},
     "output_type": "display_data"
    }
   ],
   "source": [
    "plt.plot(X[:, 1], y)"
   ]
  },
  {
   "cell_type": "code",
   "execution_count": 540,
   "id": "9e501b29-b2eb-4424-bd47-bb1227c8176d",
   "metadata": {},
   "outputs": [],
   "source": [
    "lg = Linear(2, 1)"
   ]
  },
  {
   "cell_type": "code",
   "execution_count": 541,
   "id": "7679dfa6-661c-4a7d-b419-d77d8f798063",
   "metadata": {},
   "outputs": [],
   "source": [
    "mse = MSELoss(lg)"
   ]
  },
  {
   "cell_type": "code",
   "execution_count": 542,
   "id": "614d1f4a-462f-4062-9a88-473cb4807ad5",
   "metadata": {},
   "outputs": [],
   "source": [
    "opt = Optimizer(lg)"
   ]
  },
  {
   "cell_type": "code",
   "execution_count": 558,
   "id": "178d70d2-d7fa-4781-8657-931491985d7a",
   "metadata": {},
   "outputs": [],
   "source": [
    "for i in range(100):\n",
    "\n",
    "    for xi, yi in zip(X, y):\n",
    "\n",
    "        opt.zero_grad()\n",
    "        \n",
    "        y_pred = lg(Tensor(xi))\n",
    "        \n",
    "        mse.backward(y_pred, Tensor(yi))\n",
    "\n",
    "        opt.step()"
   ]
  },
  {
   "cell_type": "code",
   "execution_count": 559,
   "id": "d2793e02-07c2-44cc-a091-8a0a4a068ecc",
   "metadata": {},
   "outputs": [
    {
     "data": {
      "text/plain": [
       "Tensor([[1.63469238e-12],\n",
       "        [7.29751606e-13]])"
      ]
     },
     "execution_count": 559,
     "metadata": {},
     "output_type": "execute_result"
    }
   ],
   "source": [
    "lg.grad"
   ]
  },
  {
   "cell_type": "code",
   "execution_count": 560,
   "id": "29441dfe-a021-49b8-b1a9-65daf7e209d6",
   "metadata": {},
   "outputs": [
    {
     "data": {
      "text/plain": [
       "Tensor([[-3.],\n",
       "        [ 2.]])"
      ]
     },
     "execution_count": 560,
     "metadata": {},
     "output_type": "execute_result"
    }
   ],
   "source": [
    "lg.weights"
   ]
  },
  {
   "cell_type": "code",
   "execution_count": null,
   "id": "383632be-c658-4a2b-a3f8-1fca2bb6a11e",
   "metadata": {},
   "outputs": [],
   "source": []
  }
 ],
 "metadata": {
  "kernelspec": {
   "display_name": "Python 3 (ipykernel)",
   "language": "python",
   "name": "python3"
  },
  "language_info": {
   "codemirror_mode": {
    "name": "ipython",
    "version": 3
   },
   "file_extension": ".py",
   "mimetype": "text/x-python",
   "name": "python",
   "nbconvert_exporter": "python",
   "pygments_lexer": "ipython3",
   "version": "3.11.6"
  }
 },
 "nbformat": 4,
 "nbformat_minor": 5
}
