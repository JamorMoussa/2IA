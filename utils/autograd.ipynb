{
 "cells": [
  {
   "cell_type": "markdown",
   "id": "9cf494b3-041a-4c51-b00e-78887a16ea7c",
   "metadata": {},
   "source": [
    "## AutoGrad : "
   ]
  },
  {
   "cell_type": "markdown",
   "id": "dd20c59e-01ce-4971-8976-10476290c657",
   "metadata": {},
   "source": [
    "It's can automatically differentiation method."
   ]
  },
  {
   "cell_type": "markdown",
   "id": "a7347a4e-345e-462f-9cc3-5bccca57256c",
   "metadata": {},
   "source": [
    "for example if we have : \n",
    "\n",
    "let $a, b, x, y \\in \\mathbb{R} $\n",
    "\n",
    "$$ y = ax + b \\Longrightarrow \\frac{\\partial y}{\\partial a} = x $$\n",
    "\n",
    "and\n",
    "\n",
    "$$ y = ax + b \\Longrightarrow \\frac{\\partial y}{\\partial b} = 1 $$"
   ]
  },
  {
   "cell_type": "markdown",
   "id": "84ebaaae-6472-4c9a-b13e-fa6567818c34",
   "metadata": {},
   "source": [
    "\n",
    "$$ y = a + b \\Longrightarrow \\frac{\\partial y}{\\partial a} = 1 $$\n",
    "\n",
    "$$ y = a + b \\Longrightarrow \\frac{\\partial y}{\\partial b} = 1 $$\n"
   ]
  },
  {
   "cell_type": "markdown",
   "id": "5d885ec6-5aac-4d2f-ae72-ae6f11b9fc21",
   "metadata": {},
   "source": [
    "$$ y = a * b \\Longrightarrow \\frac{\\partial y}{\\partial a} = b $$\n",
    "\n",
    "$$ y = a * b \\Longrightarrow \\frac{\\partial y}{\\partial b} = a $$"
   ]
  },
  {
   "cell_type": "markdown",
   "id": "1b689e24-c7ee-40a7-a94f-b10c062a38c8",
   "metadata": {},
   "source": [
    "**Vectors :**"
   ]
  },
  {
   "cell_type": "markdown",
   "id": "2b581a05-fe01-43b9-9338-034d2e1e2eca",
   "metadata": {},
   "source": [
    "$$ y = x^Tw \\Longrightarrow \\frac{\\partial y}{\\partial w} = x^T $$\n",
    "\n",
    "$$ y = x^Tw \\Longrightarrow \\frac{\\partial y}{\\partial x} = w^T $$"
   ]
  },
  {
   "cell_type": "markdown",
   "id": "4bac4ccc-0186-4593-a7f7-dd41825fd269",
   "metadata": {},
   "source": [
    "**Activation**"
   ]
  },
  {
   "cell_type": "markdown",
   "id": "6f3dbcab-0788-43e4-a5dc-4a637cc54cf3",
   "metadata": {},
   "source": [
    "Let \n",
    "\n",
    "$$ y = \\sigma (z)$$\n",
    "\n",
    "where \n",
    "\n",
    "$$\\sigma(z) = \\frac{1}{1 + \\exp^{-z}}$$ \n",
    "\n",
    "for $z \\in \\mathbb{R} \\hspace{0.5cm} \\sigma^{'}(z) = \\sigma(z)(1- \\sigma(z))$\n",
    "\n",
    "if $z = x^Tw$ thus, \n",
    "\n",
    "$$ \\frac{\\partial \\sigma(z)}{\\partial w} =  \\frac{\\partial \\sigma(z)}{\\partial z}\\frac{\\partial z}{\\partial w} \\mid z = x^Tw$$ \n",
    "\n",
    "$$ =   \\sigma(z)(1- \\sigma(z))w^T$$\n",
    "\n",
    "$$ =   \\sigma(x^Tw)(1- \\sigma(x^Tw))w^T$$\n"
   ]
  },
  {
   "cell_type": "markdown",
   "id": "6c4b314e-c340-4b05-bd29-12cff1d5d37f",
   "metadata": {},
   "source": [
    "### For Real Value : "
   ]
  },
  {
   "cell_type": "markdown",
   "id": "8d7c50d2-8071-422a-aa74-f76a5563dd67",
   "metadata": {},
   "source": [
    "\n",
    "$$ y = a + b \\Longrightarrow \\begin{equation}\n",
    "\\left\\{\\begin{split}\n",
    "\\frac{\\partial y}{\\partial a} = 1 \\\\\n",
    "\\frac{\\partial y}{\\partial b} = 1 \\\\\n",
    "\\end{split}\\right.\n",
    "\\end{equation}$$\n"
   ]
  },
  {
   "cell_type": "markdown",
   "id": "f156c756-556b-4384-b9fd-f3a022abffe7",
   "metadata": {},
   "source": [
    "$$ y = f_1 \\circ f_2 \\circ ... \\circ f_n(x) \\Longrightarrow \\frac{\\partial y}{\\partial x} = \\frac{\\partial y(f_1)}{\\partial f_1} \\frac{\\partial f_1(f_2)}{\\partial f_2} ... \\frac{\\partial f_n(x)}{\\partial x} $$"
   ]
  },
  {
   "cell_type": "code",
   "execution_count": 302,
   "id": "f62404d1-6815-4ecd-8ec1-785d4a24218a",
   "metadata": {},
   "outputs": [],
   "source": [
    "class Value:\n",
    "\n",
    "    def __init__(self, data: float, _childs : tuple[Value] = () , ops: str =  'None'):\n",
    "        self.data = data\n",
    "        self.grad = 0\n",
    "        self.ops = ops\n",
    "        self._prev = set(_childs)\n",
    "        self._backword = lambda : None  \n",
    "\n",
    "    def __add__(self, other: Value) -> Value:\n",
    "        out =  Value(self.data + other.data, (self, other), ops='+')    \n",
    "\n",
    "        def _backword():\n",
    "            self.grad = out.grad\n",
    "            other.grad = out.grad\n",
    "\n",
    "        out._backword = _backword\n",
    "        \n",
    "        return out\n",
    "    \n",
    "    def __mul__(self, other: Value) -> Value:\n",
    "        out = Value(self.data * other.data, (self, other), ops='*')\n",
    "\n",
    "        def _backword():\n",
    "            self.grad = other.data\n",
    "            other.grad = self.data\n",
    "            \n",
    "        out._backword = _backword\n",
    "        \n",
    "        return out     \n",
    "\n",
    "    def relu(self):\n",
    "        out = Value(0 if self.data <= 0 else self.data, (self,), 'ReLU')\n",
    "\n",
    "        out.grad = 1\n",
    "\n",
    "        print(out)\n",
    "        \n",
    "        def _backword():\n",
    "            self.grad = (out.data > 0)*out.grad\n",
    "            \n",
    "        out._backword = _backword\n",
    "\n",
    "        return out\n",
    "\n",
    "    def backward(self):\n",
    "\n",
    "        self.nodes = []\n",
    "        visited = set()\n",
    "        def get_nodes(value: Value):\n",
    "            if value not in visited:\n",
    "                visited.add(value)\n",
    "                \n",
    "                self.nodes.append(value)\n",
    "                \n",
    "                for child in value._prev:\n",
    "                    get_nodes(child)\n",
    "                    \n",
    "                \n",
    "        get_nodes(self)\n",
    "        \n",
    "        self.grad = 1\n",
    "\n",
    "        for v in self.nodes:\n",
    "            v._backword()\n",
    "\n",
    "        \n",
    "    def __repr__(self) -> str:\n",
    "        return f\"Value(data={self.data}, grad={self.grad}, ops={self.ops})\""
   ]
  },
  {
   "cell_type": "code",
   "execution_count": 303,
   "id": "ac0bc0c3-8cee-48a1-a57d-02a2dd4000e2",
   "metadata": {},
   "outputs": [],
   "source": [
    "a = Value(3)"
   ]
  },
  {
   "cell_type": "code",
   "execution_count": 304,
   "id": "c03d6ed4-9a53-4d78-875f-2322ffd098b6",
   "metadata": {},
   "outputs": [],
   "source": [
    "b = Value(2)"
   ]
  },
  {
   "cell_type": "code",
   "execution_count": 305,
   "id": "af577d70-3090-4853-9ea0-60c0d6ea59c3",
   "metadata": {},
   "outputs": [
    {
     "name": "stdout",
     "output_type": "stream",
     "text": [
      "Value(data=3, grad=1, ops=ReLU)\n"
     ]
    }
   ],
   "source": [
    "y = a.relu() * b"
   ]
  },
  {
   "cell_type": "code",
   "execution_count": 306,
   "id": "ec6b9eeb-56f0-4683-a934-54ea62027380",
   "metadata": {},
   "outputs": [],
   "source": [
    "y.backward()"
   ]
  },
  {
   "cell_type": "code",
   "execution_count": 307,
   "id": "90608679-1c9a-4079-bd64-eafb52fed965",
   "metadata": {},
   "outputs": [
    {
     "data": {
      "text/plain": [
       "2"
      ]
     },
     "execution_count": 307,
     "metadata": {},
     "output_type": "execute_result"
    }
   ],
   "source": [
    "a.grad"
   ]
  },
  {
   "cell_type": "code",
   "execution_count": 308,
   "id": "065cc6f1-b06f-4996-83fc-6732292b730a",
   "metadata": {},
   "outputs": [
    {
     "data": {
      "text/plain": [
       "[Value(data=6, grad=1, ops=*),\n",
       " Value(data=2, grad=3, ops=None),\n",
       " Value(data=3, grad=2, ops=ReLU),\n",
       " Value(data=3, grad=2, ops=None)]"
      ]
     },
     "execution_count": 308,
     "metadata": {},
     "output_type": "execute_result"
    }
   ],
   "source": [
    "y.nodes"
   ]
  },
  {
   "cell_type": "code",
   "execution_count": null,
   "id": "3ac15fc8-5128-4246-bc20-0b6c1902280f",
   "metadata": {},
   "outputs": [],
   "source": [
    "class Tensor:"
   ]
  },
  {
   "cell_type": "code",
   "execution_count": null,
   "id": "d8cc9086-3d68-482b-83c7-2b09e1533b3f",
   "metadata": {},
   "outputs": [],
   "source": []
  },
  {
   "cell_type": "code",
   "execution_count": null,
   "id": "847f4d78-62be-4b43-9eba-4ba9546af1f2",
   "metadata": {},
   "outputs": [],
   "source": []
  },
  {
   "cell_type": "code",
   "execution_count": null,
   "id": "311639a1-b59a-42c1-bc9b-721b9589b90d",
   "metadata": {},
   "outputs": [],
   "source": []
  }
 ],
 "metadata": {
  "kernelspec": {
   "display_name": "Python 3 (ipykernel)",
   "language": "python",
   "name": "python3"
  },
  "language_info": {
   "codemirror_mode": {
    "name": "ipython",
    "version": 3
   },
   "file_extension": ".py",
   "mimetype": "text/x-python",
   "name": "python",
   "nbconvert_exporter": "python",
   "pygments_lexer": "ipython3",
   "version": "3.11.6"
  }
 },
 "nbformat": 4,
 "nbformat_minor": 5
}
