{
 "cells": [
  {
   "cell_type": "markdown",
   "id": "17780fdb-0baf-4da6-84d1-1c1e86fd2602",
   "metadata": {},
   "source": [
    "## Neuro-Net with sequential : "
   ]
  },
  {
   "cell_type": "code",
   "execution_count": 21,
   "id": "51048c94-5cac-4b77-90be-c8bab28e3710",
   "metadata": {},
   "outputs": [],
   "source": [
    "import numpy as np\n",
    "from abc import ABC, abstractmethod\n",
    "from typing import Union, List, Callable\n",
    "import matplotlib.pyplot as plt"
   ]
  },
  {
   "cell_type": "code",
   "execution_count": 22,
   "id": "07659831-e2e0-44ed-bd84-f28e8a541759",
   "metadata": {},
   "outputs": [],
   "source": [
    "class Tensor(np.ndarray):\n",
    "\n",
    "    def __new__(cls, input: 'Tensor'):\n",
    "        if not isinstance(input, np.ndarray): input = np.array(input)\n",
    "        if input.ndim ==1 : input = input.reshape(1, -1)\n",
    "        \n",
    "        obj = np.asanyarray(input).view(cls)\n",
    "\n",
    "        return obj\n",
    "\n",
    "    @staticmethod\n",
    "    def rand(*shape: tuple[int]) -> 'Tensor':\n",
    "        return Tensor(np.random.rand(*shape))\n",
    "\n",
    "    @staticmethod\n",
    "    def zeros(*shape: tuple[int]) -> 'Tensor':\n",
    "        return Tensor(np.zeros(shape))\n",
    "    \n",
    "    @staticmethod\n",
    "    def dot(t1: 'Tensor', t2: 'Tensor') -> 'Tensor':\n",
    "        return Tensor(np.dot(t1, t2))\n",
    "    "
   ]
  },
  {
   "cell_type": "code",
   "execution_count": 48,
   "id": "44134de6-c884-41de-9857-7e87211c19ad",
   "metadata": {},
   "outputs": [],
   "source": [
    "class Layer(ABC):\n",
    "    weights: Tensor\n",
    "    \n",
    "    @abstractmethod\n",
    "    def forward(self, input: Tensor) -> Tensor:\n",
    "        ... \n",
    "\n",
    "    @abstractmethod\n",
    "    def backward(self, output_dE: Tensor) -> Tensor:\n",
    "        ...\n",
    "    \n",
    "    def __call__(self, input: Tensor) -> Tensor:\n",
    "        return self.forward(input)\n",
    "    \n",
    "    def __repr__(self) -> str:\n",
    "        return f\"{self.__class__.__name__}({self.weights})\""
   ]
  },
  {
   "cell_type": "code",
   "execution_count": 24,
   "id": "177de7a6-0dee-44a6-8a05-d93d867d1762",
   "metadata": {},
   "outputs": [],
   "source": [
    "class Activation(Layer):\n",
    "    def __init__(self, active_func: Callable, active_prime: Callable):\n",
    "\n",
    "        self.active_func = active_func\n",
    "        self.active_prime = active_prime\n",
    "        \n",
    "    def forward(self, input: Tensor):\n",
    "        self.input = input\n",
    "        return self.active_func(input)\n",
    "\n",
    "    def backward(self, out_grad: Tensor):\n",
    "        return Tensor(np.multiply(out_grad, self.active_prime(self.input)))\n"
   ]
  },
  {
   "cell_type": "code",
   "execution_count": 94,
   "id": "bd50dfd0-6fe2-4924-870c-b3dd43245a54",
   "metadata": {},
   "outputs": [],
   "source": [
    "class ReLU(Activation):\n",
    "\n",
    "    def __init__(self):\n",
    "        super().__init__(\n",
    "            lambda input : np.where(input>0, input, 0),\n",
    "            lambda input: np.where(input>0, input, 0)\n",
    "        )\n",
    "        "
   ]
  },
  {
   "cell_type": "code",
   "execution_count": 532,
   "id": "4140e8a4-f587-4ede-a38e-3ce3e4b44c91",
   "metadata": {},
   "outputs": [],
   "source": [
    "class Sigmoid(Activation):\n",
    "\n",
    "    def __init__(self):\n",
    "\n",
    "        def _sigmoid(x):\n",
    "            return 1 / (1 + np.exp(-x))\n",
    "\n",
    "        def _sigmoid_prime(x):\n",
    "            s = _sigmoid(x)\n",
    "            return s * (1 - s)\n",
    "            \n",
    "        super().__init__(\n",
    "            _sigmoid, \n",
    "            _sigmoid_prime\n",
    "        )"
   ]
  },
  {
   "cell_type": "code",
   "execution_count": null,
   "id": "df033560-e201-4822-b663-80a89a886533",
   "metadata": {},
   "outputs": [],
   "source": []
  },
  {
   "cell_type": "code",
   "execution_count": 533,
   "id": "d047054c-fb19-4177-aa2b-e1c60dc6895e",
   "metadata": {},
   "outputs": [],
   "source": [
    "tmp = np.array([-1, 1, -3, 2])"
   ]
  },
  {
   "cell_type": "code",
   "execution_count": 534,
   "id": "0b4c03b5-76cd-4652-a818-eeeb3fe1a2d9",
   "metadata": {},
   "outputs": [],
   "source": [
    "class Linear(Layer):\n",
    "\n",
    "    def __init__(self, *shape: tuple[int]):\n",
    "\n",
    "        self.weights = Tensor.rand(*shape)\n",
    "        self.grad = Tensor.zeros(*shape)\n",
    "        self.input = Tensor.zeros(*shape)\n",
    "        self.p_shape = shape\n",
    "        \n",
    "    def forward(self, input: Tensor) -> Tensor:\n",
    "        self.input = input\n",
    "        return Tensor.dot(input, self.weights)\n",
    "\n",
    "    def backward(self, out_grad: Tensor) -> Tensor:\n",
    "        self.grad = Tensor.dot(self.input.T, out_grad)\n",
    "        return Tensor.dot(out_grad, self.weights.T)\n"
   ]
  },
  {
   "cell_type": "code",
   "execution_count": 535,
   "id": "2189701f-1000-44c8-ad38-8cb4d58441eb",
   "metadata": {},
   "outputs": [],
   "source": [
    "class Sequential:\n",
    "\n",
    "    def __init__(self, layers: List[Layer]):\n",
    "        self.__layers = layers\n",
    "\n",
    "    def layers(self):\n",
    "        return self.__layers\n",
    "\n",
    "    def forward(self, input: Tensor) -> Tensor:\n",
    "        out = input\n",
    "        for layer in self.__layers:\n",
    "            out = layer(out)\n",
    "        return out\n",
    "\n",
    "    def __call__(self, input: Tensor) -> Tensor:\n",
    "        return self.forward(input)\n",
    "        "
   ]
  },
  {
   "cell_type": "code",
   "execution_count": 536,
   "id": "ceb14c0a-841d-41a9-9d15-54fee5d846a1",
   "metadata": {},
   "outputs": [],
   "source": [
    "class Optimizer:\n",
    "\n",
    "    def __init__(self, layers: List[Layer], Loss: 'Loss' ,lr=0.01):\n",
    "        self.layers = layers\n",
    "        self.loss = Loss(layers)\n",
    "        self.lr = lr \n",
    "\n",
    "    def zero_grad(self):\n",
    "        for layer in self.layers:\n",
    "            if not isinstance(layer, Activation):\n",
    "                layer.grad = Tensor.zeros(*layer.p_shape)\n",
    "\n",
    "    def step(self):\n",
    "        for layer in self.layers:\n",
    "            if not isinstance(layer, Activation):\n",
    "                layer.weights -= self.lr * layer.grad"
   ]
  },
  {
   "cell_type": "code",
   "execution_count": 537,
   "id": "381fb797-1cdc-4cee-9158-1472936a1a9b",
   "metadata": {},
   "outputs": [],
   "source": [
    "class MSELoss:\n",
    "\n",
    "    def __init__(self, layers: List[Layer]):\n",
    "        self.layers = layers\n",
    "\n",
    "    def backward(self, y_pred: Tensor, y: Tensor):\n",
    "        grad = Tensor((y_pred - y))\n",
    "        for layer in reversed(self.layers):\n",
    "            grad = layer.backward(grad)"
   ]
  },
  {
   "cell_type": "code",
   "execution_count": 538,
   "id": "2c843619-ab7e-4d08-bb04-e103908707f5",
   "metadata": {},
   "outputs": [],
   "source": [
    "data = np.loadtxt(\"./datalg.csv\", delimiter=',')"
   ]
  },
  {
   "cell_type": "code",
   "execution_count": 539,
   "id": "4ca23ffc-67bd-4d3f-a731-8874f25eb635",
   "metadata": {},
   "outputs": [],
   "source": [
    "X, y = data[:, :-1], data[:, -1]"
   ]
  },
  {
   "cell_type": "code",
   "execution_count": 540,
   "id": "198fa5e8-1e7b-4eb3-bf19-376b6f8e5449",
   "metadata": {},
   "outputs": [],
   "source": [
    "X, y = Tensor(X), Tensor(y).reshape(-1, 1)"
   ]
  },
  {
   "cell_type": "code",
   "execution_count": 541,
   "id": "6bc2e2b0-671a-44ba-9c2f-fa3452876dec",
   "metadata": {},
   "outputs": [
    {
     "data": {
      "text/plain": [
       "[<matplotlib.lines.Line2D at 0x7f61f150c950>]"
      ]
     },
     "execution_count": 541,
     "metadata": {},
     "output_type": "execute_result"
    },
    {
     "data": {
      "image/png": "[encoded data removed]",
      "text/plain": [
       "<Figure size 640x480 with 1 Axes>"
      ]
     },
     "metadata": {},
     "output_type": "display_data"
    }
   ],
   "source": [
    "plt.plot(X[:, 1], y)"
   ]
  },
  {
   "cell_type": "code",
   "execution_count": 542,
   "id": "bbc0deb1-11c6-406d-9efe-28fe0a3e9026",
   "metadata": {},
   "outputs": [],
   "source": [
    "X = Tensor(np.block([np.ones((10, 1)), np.random.rand(10, 3)]))"
   ]
  },
  {
   "cell_type": "code",
   "execution_count": 543,
   "id": "01b7c69c-8899-4b79-b586-ad4a7b7852e9",
   "metadata": {},
   "outputs": [
    {
     "data": {
      "text/plain": [
       "Tensor([[1.        , 0.76389452, 0.77015411, 0.04546358],\n",
       "        [1.        , 0.94465577, 0.60602309, 0.90360716],\n",
       "        [1.        , 0.22655534, 0.75705207, 0.35516002],\n",
       "        [1.        , 0.50696042, 0.91196028, 0.8031423 ],\n",
       "        [1.        , 0.47041366, 0.82945478, 0.50390501],\n",
       "        [1.        , 0.49383967, 0.89260965, 0.68032489],\n",
       "        [1.        , 0.50675995, 0.18039782, 0.41569873],\n",
       "        [1.        , 0.26095461, 0.51078437, 0.65412212],\n",
       "        [1.        , 0.01693343, 0.63969722, 0.33216862],\n",
       "        [1.        , 0.06092191, 0.4277388 , 0.56497344]])"
      ]
     },
     "execution_count": 543,
     "metadata": {},
     "output_type": "execute_result"
    }
   ],
   "source": [
    "X"
   ]
  },
  {
   "cell_type": "code",
   "execution_count": 544,
   "id": "218a2392-3170-4fdf-b6a4-81cbec87ae82",
   "metadata": {},
   "outputs": [],
   "source": [
    "y = np.dot(X, np.array([[-1, 2, -3, 4]]).T)"
   ]
  },
  {
   "cell_type": "code",
   "execution_count": null,
   "id": "b173f25a-3b61-4fcb-944c-b07668e81167",
   "metadata": {},
   "outputs": [],
   "source": []
  },
  {
   "cell_type": "code",
   "execution_count": 521,
   "id": "cb847d53-0166-48af-9340-5397d9ec2cb7",
   "metadata": {},
   "outputs": [],
   "source": [
    "model = Sequential([\n",
    "    Linear(4, 3),\n",
    "    ReLU(),\n",
    "    Linear(3, 3),\n",
    "    ReLU(),\n",
    "    Linear(3, 1)\n",
    "])"
   ]
  },
  {
   "cell_type": "code",
   "execution_count": 522,
   "id": "11cdc231-58a6-4989-a776-468a1c3daa42",
   "metadata": {},
   "outputs": [],
   "source": [
    "opt = Optimizer(model.layers(), MSELoss, lr=0.001)"
   ]
  },
  {
   "cell_type": "code",
   "execution_count": 528,
   "id": "d5c80c5d-f5d2-45eb-8373-3f527d01bb1c",
   "metadata": {},
   "outputs": [],
   "source": [
    "for i in range(100):\n",
    "\n",
    "    for xi, yi in zip(X, y):\n",
    "\n",
    "        opt.zero_grad()\n",
    "        \n",
    "        y_pred = model(Tensor(xi))\n",
    "        \n",
    "        opt.loss.backward(y_pred, Tensor(yi))\n",
    "\n",
    "        opt.step()"
   ]
  },
  {
   "cell_type": "code",
   "execution_count": 529,
   "id": "81c6fc04-5cb2-4d08-b336-3bd05e1076db",
   "metadata": {},
   "outputs": [
    {
     "data": {
      "text/plain": [
       "Tensor([[ 2.46692311,  2.02911551,  1.88016534],\n",
       "        [ 3.35543086,  2.27685735,  0.3185621 ],\n",
       "        [-0.73133725, -0.68309714,  1.53350932],\n",
       "        [ 4.49330501,  3.0046921 , -0.42640193]])"
      ]
     },
     "execution_count": 529,
     "metadata": {},
     "output_type": "execute_result"
    }
   ],
   "source": [
    "model.layers()[0].weights"
   ]
  },
  {
   "cell_type": "code",
   "execution_count": 530,
   "id": "df6680a7-78d3-4212-b489-4d3665a59269",
   "metadata": {},
   "outputs": [
    {
     "data": {
      "text/plain": [
       "Tensor([[ 0.42058931,  2.29252198,  0.15868685],\n",
       "        [ 0.53243996,  1.815543  ,  0.26517713],\n",
       "        [ 0.06831906, -0.57777641,  1.42007395]])"
      ]
     },
     "execution_count": 530,
     "metadata": {},
     "output_type": "execute_result"
    }
   ],
   "source": [
    "model.layers()[2].weights"
   ]
  },
  {
   "cell_type": "code",
   "execution_count": 531,
   "id": "57786635-9103-4a03-b35b-658985bf9fb3",
   "metadata": {},
   "outputs": [
    {
     "data": {
      "text/plain": [
       "Tensor([[-1.],\n",
       "        [ 2.],\n",
       "        [-3.],\n",
       "        [ 4.]])"
      ]
     },
     "execution_count": 531,
     "metadata": {},
     "output_type": "execute_result"
    }
   ],
   "source": [
    "np.dot(np.dot(model.layers()[0].weights, model.layers()[2].weights), model.layers()[4].weights)"
   ]
  },
  {
   "cell_type": "code",
   "execution_count": 511,
   "id": "91e6cf9e-99e9-4638-984b-735785ffbd1f",
   "metadata": {},
   "outputs": [
    {
     "data": {
      "text/plain": [
       "Tensor([[1.83730706]])"
      ]
     },
     "execution_count": 511,
     "metadata": {},
     "output_type": "execute_result"
    }
   ],
   "source": [
    "model(Tensor([0, 1, 0, 0]))"
   ]
  },
  {
   "cell_type": "code",
   "execution_count": 348,
   "id": "43ecc4db-1727-4be3-aae5-d5e8df21a107",
   "metadata": {},
   "outputs": [],
   "source": [
    "t = Tensor(np.block([np.ones((100, 1)), np.linspace(0, 5, 100).reshape(-1, 1)]))"
   ]
  },
  {
   "cell_type": "code",
   "execution_count": 44,
   "id": "6a62a18f-77cb-4382-9033-75d4898eded1",
   "metadata": {},
   "outputs": [],
   "source": [
    "y = model(t)"
   ]
  },
  {
   "cell_type": "code",
   "execution_count": 45,
   "id": "cc8e692f-dbfa-4b5f-b0f3-a42f5cf912c9",
   "metadata": {},
   "outputs": [
    {
     "data": {
      "text/plain": [
       "[<matplotlib.lines.Line2D at 0x7f9ea1d74ad0>,\n",
       " <matplotlib.lines.Line2D at 0x7f9ea1bd7350>]"
      ]
     },
     "execution_count": 45,
     "metadata": {},
     "output_type": "execute_result"
    },
    {
     "data": {
      "image/png": "[encoded data removed]",
      "text/plain": [
       "<Figure size 640x480 with 1 Axes>"
      ]
     },
     "metadata": {},
     "output_type": "display_data"
    }
   ],
   "source": [
    "plt.plot(t, y)"
   ]
  },
  {
   "cell_type": "code",
   "execution_count": null,
   "id": "fcd0013a-50c7-4123-9514-028ee6f4b509",
   "metadata": {},
   "outputs": [],
   "source": []
  }
 ],
 "metadata": {
  "kernelspec": {
   "display_name": "Python 3 (ipykernel)",
   "language": "python",
   "name": "python3"
  },
  "language_info": {
   "codemirror_mode": {
    "name": "ipython",
    "version": 3
   },
   "file_extension": ".py",
   "mimetype": "text/x-python",
   "name": "python",
   "nbconvert_exporter": "python",
   "pygments_lexer": "ipython3",
   "version": "3.11.6"
  }
 },
 "nbformat": 4,
 "nbformat_minor": 5
}
