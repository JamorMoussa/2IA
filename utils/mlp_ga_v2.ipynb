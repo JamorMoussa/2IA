{
  "nbformat": 4,
  "nbformat_minor": 0,
  "metadata": {
    "colab": {
      "provenance": [],
      "toc_visible": true,
      "gpuType": "T4",
      "authorship_tag": "ABX9TyNulZSqxVR4sUx28qb9eACz",
      "include_colab_link": true
    },
    "kernelspec": {
      "name": "python3",
      "display_name": "Python 3"
    },
    "language_info": {
      "name": "python"
    },
    "accelerator": "GPU"
  },
  "cells": [
    {
      "cell_type": "markdown",
      "metadata": {
        "id": "view-in-github",
        "colab_type": "text"
      },
      "source": [
        "<a href=\"https://colab.research.google.com/github/JamorMoussa/2IA/blob/main/utils/mlp_ga_v2.ipynb\" target=\"_parent\"><img src=\"https://colab.research.google.com/assets/colab-badge.svg\" alt=\"Open In Colab\"/></a>"
      ]
    },
    {
      "cell_type": "code",
      "execution_count": 1,
      "metadata": {
        "colab": {
          "base_uri": "https://localhost:8080/"
        },
        "id": "dDSNyM7JB1OF",
        "outputId": "fac03ca7-e3a7-41fa-fa29-d82e89289fca"
      },
      "outputs": [
        {
          "output_type": "stream",
          "name": "stdout",
          "text": [
            "Requirement already satisfied: torch in /usr/local/lib/python3.10/dist-packages (2.1.0+cu121)\n",
            "Collecting pygad\n",
            "  Downloading pygad-3.2.0-py3-none-any.whl (80 kB)\n",
            "\u001b[2K     \u001b[90m━━━━━━━━━━━━━━━━━━━━━━━━━━━━━━━━━━━━━━━━\u001b[0m \u001b[32m80.8/80.8 kB\u001b[0m \u001b[31m1.2 MB/s\u001b[0m eta \u001b[36m0:00:00\u001b[0m\n",
            "\u001b[?25hRequirement already satisfied: filelock in /usr/local/lib/python3.10/dist-packages (from torch) (3.13.1)\n",
            "Requirement already satisfied: typing-extensions in /usr/local/lib/python3.10/dist-packages (from torch) (4.5.0)\n",
            "Requirement already satisfied: sympy in /usr/local/lib/python3.10/dist-packages (from torch) (1.12)\n",
            "Requirement already satisfied: networkx in /usr/local/lib/python3.10/dist-packages (from torch) (3.2.1)\n",
            "Requirement already satisfied: jinja2 in /usr/local/lib/python3.10/dist-packages (from torch) (3.1.2)\n",
            "Requirement already satisfied: fsspec in /usr/local/lib/python3.10/dist-packages (from torch) (2023.6.0)\n",
            "Requirement already satisfied: triton==2.1.0 in /usr/local/lib/python3.10/dist-packages (from torch) (2.1.0)\n",
            "Requirement already satisfied: cloudpickle in /usr/local/lib/python3.10/dist-packages (from pygad) (2.2.1)\n",
            "Requirement already satisfied: matplotlib in /usr/local/lib/python3.10/dist-packages (from pygad) (3.7.1)\n",
            "Requirement already satisfied: numpy in /usr/local/lib/python3.10/dist-packages (from pygad) (1.23.5)\n",
            "Requirement already satisfied: MarkupSafe>=2.0 in /usr/local/lib/python3.10/dist-packages (from jinja2->torch) (2.1.3)\n",
            "Requirement already satisfied: contourpy>=1.0.1 in /usr/local/lib/python3.10/dist-packages (from matplotlib->pygad) (1.2.0)\n",
            "Requirement already satisfied: cycler>=0.10 in /usr/local/lib/python3.10/dist-packages (from matplotlib->pygad) (0.12.1)\n",
            "Requirement already satisfied: fonttools>=4.22.0 in /usr/local/lib/python3.10/dist-packages (from matplotlib->pygad) (4.47.0)\n",
            "Requirement already satisfied: kiwisolver>=1.0.1 in /usr/local/lib/python3.10/dist-packages (from matplotlib->pygad) (1.4.5)\n",
            "Requirement already satisfied: packaging>=20.0 in /usr/local/lib/python3.10/dist-packages (from matplotlib->pygad) (23.2)\n",
            "Requirement already satisfied: pillow>=6.2.0 in /usr/local/lib/python3.10/dist-packages (from matplotlib->pygad) (9.4.0)\n",
            "Requirement already satisfied: pyparsing>=2.3.1 in /usr/local/lib/python3.10/dist-packages (from matplotlib->pygad) (3.1.1)\n",
            "Requirement already satisfied: python-dateutil>=2.7 in /usr/local/lib/python3.10/dist-packages (from matplotlib->pygad) (2.8.2)\n",
            "Requirement already satisfied: mpmath>=0.19 in /usr/local/lib/python3.10/dist-packages (from sympy->torch) (1.3.0)\n",
            "Requirement already satisfied: six>=1.5 in /usr/local/lib/python3.10/dist-packages (from python-dateutil>=2.7->matplotlib->pygad) (1.16.0)\n",
            "Installing collected packages: pygad\n",
            "Successfully installed pygad-3.2.0\n"
          ]
        }
      ],
      "source": [
        "!pip install torch pygad"
      ]
    },
    {
      "cell_type": "code",
      "source": [
        "import numpy as np\n",
        "import pygad\n",
        "import torch\n",
        "import torch.nn as nn\n",
        "from torch.utils.data import Dataset, DataLoader"
      ],
      "metadata": {
        "id": "cLr18B3ET78D"
      },
      "execution_count": 2,
      "outputs": []
    },
    {
      "cell_type": "code",
      "source": [
        "class MyDataset(Dataset):\n",
        "    def __init__(self, size):\n",
        "        self.X = torch.rand(size, 2)\n",
        "        self.y = torch.matmul(self.X, torch.Tensor([1, 2]).t())\n",
        "\n",
        "    def __len__(self):\n",
        "        return len(self.X)\n",
        "\n",
        "    def __getitem__(self, idx):\n",
        "        return self.X[idx], self.y[idx]"
      ],
      "metadata": {
        "id": "a02O_Bx-ldPl"
      },
      "execution_count": 3,
      "outputs": []
    },
    {
      "cell_type": "code",
      "source": [
        "class IsNeuronAct(nn.Module):\n",
        "\n",
        "  def __init__(self, mask: torch.Tensor):\n",
        "      super(IsNeuronAct, self).__init__()\n",
        "      self.mask = nn.Parameter(torch.Tensor(mask), requires_grad=False)\n",
        "\n",
        "  def forward(self, x: torch.Tensor) -> torch.Tensor:\n",
        "    return x * self.mask"
      ],
      "metadata": {
        "id": "_zc_S3CsX0iX"
      },
      "execution_count": 4,
      "outputs": []
    },
    {
      "cell_type": "code",
      "source": [
        "class MLP(nn.Module):\n",
        "\n",
        "  def __init__(self, mask: torch.Tensor):\n",
        "    super(MLP, self).__init__()\n",
        "\n",
        "    self.l1 = nn.Linear(2, 4)\n",
        "    self.act1 = IsNeuronAct(mask)\n",
        "    self.re = nn.ReLU()\n",
        "    self.l2 = nn.Linear(4, 1)\n",
        "\n",
        "  def forward(self, x: torch.Tensor) -> torch.Tensor:\n",
        "    x = self.l1(x)\n",
        "    #x =self.re(x)\n",
        "    x = self.act1(x)\n",
        "    return self.l2(x)"
      ],
      "metadata": {
        "id": "O0-GWidlXrNi"
      },
      "execution_count": 14,
      "outputs": []
    },
    {
      "cell_type": "code",
      "source": [
        "dataset = MyDataset(size=1000)\n",
        "dataloader = DataLoader(dataset, batch_size=32, shuffle=True)"
      ],
      "metadata": {
        "id": "kJFn9siImRA1"
      },
      "execution_count": 15,
      "outputs": []
    },
    {
      "cell_type": "code",
      "source": [
        "results: list[tuple[nn.Module, float]] = []\n",
        "\n",
        "def train_model(mask, num_epochs=100):\n",
        "    device = torch.device(\"cuda\" if torch.cuda.is_available() else \"cpu\")\n",
        "\n",
        "    model = MLP(mask)\n",
        "    model.to(device)\n",
        "\n",
        "    mse = nn.MSELoss()\n",
        "    opt = torch.optim.SGD(model.parameters(), lr=0.001)\n",
        "\n",
        "    for epoch in range(num_epochs):\n",
        "        for inputs, targets in dataloader:\n",
        "            inputs, targets = inputs.to(device), targets.to(device)\n",
        "            outputs = model(inputs)\n",
        "\n",
        "            loss = mse(outputs, targets.view(-1, 1))\n",
        "\n",
        "            opt.zero_grad()\n",
        "            loss.backward()\n",
        "            opt.step()\n",
        "\n",
        "    print(f\"loss: {loss.item()}\")\n",
        "    results.append((model, loss.item()))\n",
        "    return loss"
      ],
      "metadata": {
        "id": "fADETsHhocHc"
      },
      "execution_count": 43,
      "outputs": []
    },
    {
      "cell_type": "code",
      "source": [
        "train_model(torch.Tensor([1, 1, 1, 1]))"
      ],
      "metadata": {
        "colab": {
          "base_uri": "https://localhost:8080/"
        },
        "id": "4nw4AmIMXq2v",
        "outputId": "c3e0454e-3226-4256-c6d7-72fb1a01f09d"
      },
      "execution_count": 17,
      "outputs": [
        {
          "output_type": "stream",
          "name": "stdout",
          "text": [
            "loss: 0.05276922881603241\n"
          ]
        },
        {
          "output_type": "execute_result",
          "data": {
            "text/plain": [
              "tensor(0.0528, device='cuda:0', grad_fn=<MseLossBackward0>)"
            ]
          },
          "metadata": {},
          "execution_count": 17
        }
      ]
    },
    {
      "cell_type": "code",
      "source": [
        "def fitness(ga_instance, solution, solution_idx):\n",
        "    loss = train_model(solution)\n",
        "\n",
        "    return 1/(float(loss)+ 1e-17) + 4 - float(np.sum(solution))"
      ],
      "metadata": {
        "id": "Kx9tVvP2VoFH"
      },
      "execution_count": 44,
      "outputs": []
    },
    {
      "cell_type": "code",
      "source": [
        "num_genes = 4\n",
        "num_generations = 15\n",
        "population_size = 5\n",
        "\n",
        "initial_population = np.random.choice([0, 1], size=(population_size, num_genes))"
      ],
      "metadata": {
        "id": "TAMRrshiVx_L"
      },
      "execution_count": 49,
      "outputs": []
    },
    {
      "cell_type": "code",
      "source": [
        "ga_instance = pygad.GA(\n",
        "    num_generations=num_generations,\n",
        "    num_parents_mating=2,\n",
        "    initial_population=initial_population.copy(),\n",
        "    fitness_func=fitness,\n",
        "    mutation_type=\"random\",\n",
        "    crossover_probability=0.8,\n",
        "    mutation_probability=0.2,\n",
        "    parent_selection_type=\"rank\",\n",
        "    crossover_type=\"single_point\",\n",
        "    keep_parents=2,\n",
        "    gene_type=int,\n",
        ")"
      ],
      "metadata": {
        "id": "tz5corh_VsQd"
      },
      "execution_count": 50,
      "outputs": []
    },
    {
      "cell_type": "code",
      "source": [
        "ga_instance.run()"
      ],
      "metadata": {
        "colab": {
          "base_uri": "https://localhost:8080/"
        },
        "id": "K5x8fsweV0ko",
        "outputId": "a969fec4-4812-4f89-dc6b-376cb24ced86"
      },
      "execution_count": 51,
      "outputs": [
        {
          "output_type": "stream",
          "name": "stdout",
          "text": [
            "loss: 0.10145790129899979\n",
            "loss: 0.1241721510887146\n",
            "loss: 0.01204755064100027\n",
            "loss: 0.2637237310409546\n",
            "loss: 0.007575054652988911\n",
            "loss: 0.15183675289154053\n",
            "loss: 0.13855338096618652\n",
            "loss: 0.03598170727491379\n",
            "loss: 0.07619421929121017\n",
            "loss: 0.050130151212215424\n",
            "loss: 0.049641307443380356\n",
            "loss: 0.06808394938707352\n",
            "loss: 0.1720898449420929\n",
            "loss: 0.20392201840877533\n",
            "loss: 0.05708683282136917\n",
            "loss: 0.1610950231552124\n",
            "loss: 0.16839219629764557\n",
            "loss: 0.45518702268600464\n",
            "loss: 0.2026398777961731\n",
            "loss: 0.2145734429359436\n"
          ]
        }
      ]
    },
    {
      "cell_type": "code",
      "source": [
        "solution, solution_fitness, solution_idx = ga_instance.best_solution()\n",
        "\n",
        "print(\"Best solution:\", solution)\n",
        "print(\"Fitness value:\", solution_fitness)"
      ],
      "metadata": {
        "colab": {
          "base_uri": "https://localhost:8080/"
        },
        "id": "iQBrtHB_WPnm",
        "outputId": "9a24d99d-3738-49a2-e8bf-dce744ed069a"
      },
      "execution_count": 52,
      "outputs": [
        {
          "output_type": "stream",
          "name": "stdout",
          "text": [
            "loss: 0.3882814943790436\n",
            "Best solution: [1 0 1 1]\n",
            "Fitness value: 133.01224886284163\n"
          ]
        }
      ]
    },
    {
      "cell_type": "code",
      "source": [],
      "metadata": {
        "id": "1CHYIy8UWfgO"
      },
      "execution_count": null,
      "outputs": []
    }
  ]
}