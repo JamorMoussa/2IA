{
  "nbformat": 4,
  "nbformat_minor": 0,
  "metadata": {
    "colab": {
      "provenance": [],
      "toc_visible": true,
      "authorship_tag": "ABX9TyPFQpUXwSGJdc2eNAu6HWM7",
      "include_colab_link": true
    },
    "kernelspec": {
      "name": "python3",
      "display_name": "Python 3"
    },
    "language_info": {
      "name": "python"
    }
  },
  "cells": [
    {
      "cell_type": "markdown",
      "metadata": {
        "id": "view-in-github",
        "colab_type": "text"
      },
      "source": [
        "<a href=\"https://colab.research.google.com/github/JamorMoussa/2IA/blob/main/utils/mlp_ga.ipynb\" target=\"_parent\"><img src=\"https://colab.research.google.com/assets/colab-badge.svg\" alt=\"Open In Colab\"/></a>"
      ]
    },
    {
      "cell_type": "code",
      "execution_count": 1,
      "metadata": {
        "colab": {
          "base_uri": "https://localhost:8080/"
        },
        "id": "dDSNyM7JB1OF",
        "outputId": "88c88742-1e7e-4e66-80c4-bb36463c29e9"
      },
      "outputs": [
        {
          "output_type": "stream",
          "name": "stdout",
          "text": [
            "Requirement already satisfied: torch in /usr/local/lib/python3.10/dist-packages (2.1.0+cu121)\n",
            "Collecting pygad\n",
            "  Downloading pygad-3.2.0-py3-none-any.whl (80 kB)\n",
            "\u001b[2K     \u001b[90m━━━━━━━━━━━━━━━━━━━━━━━━━━━━━━━━━━━━━━━━\u001b[0m \u001b[32m80.8/80.8 kB\u001b[0m \u001b[31m1.2 MB/s\u001b[0m eta \u001b[36m0:00:00\u001b[0m\n",
            "\u001b[?25hRequirement already satisfied: filelock in /usr/local/lib/python3.10/dist-packages (from torch) (3.13.1)\n",
            "Requirement already satisfied: typing-extensions in /usr/local/lib/python3.10/dist-packages (from torch) (4.5.0)\n",
            "Requirement already satisfied: sympy in /usr/local/lib/python3.10/dist-packages (from torch) (1.12)\n",
            "Requirement already satisfied: networkx in /usr/local/lib/python3.10/dist-packages (from torch) (3.2.1)\n",
            "Requirement already satisfied: jinja2 in /usr/local/lib/python3.10/dist-packages (from torch) (3.1.2)\n",
            "Requirement already satisfied: fsspec in /usr/local/lib/python3.10/dist-packages (from torch) (2023.6.0)\n",
            "Requirement already satisfied: triton==2.1.0 in /usr/local/lib/python3.10/dist-packages (from torch) (2.1.0)\n",
            "Requirement already satisfied: cloudpickle in /usr/local/lib/python3.10/dist-packages (from pygad) (2.2.1)\n",
            "Requirement already satisfied: matplotlib in /usr/local/lib/python3.10/dist-packages (from pygad) (3.7.1)\n",
            "Requirement already satisfied: numpy in /usr/local/lib/python3.10/dist-packages (from pygad) (1.23.5)\n",
            "Requirement already satisfied: MarkupSafe>=2.0 in /usr/local/lib/python3.10/dist-packages (from jinja2->torch) (2.1.3)\n",
            "Requirement already satisfied: contourpy>=1.0.1 in /usr/local/lib/python3.10/dist-packages (from matplotlib->pygad) (1.2.0)\n",
            "Requirement already satisfied: cycler>=0.10 in /usr/local/lib/python3.10/dist-packages (from matplotlib->pygad) (0.12.1)\n",
            "Requirement already satisfied: fonttools>=4.22.0 in /usr/local/lib/python3.10/dist-packages (from matplotlib->pygad) (4.47.0)\n",
            "Requirement already satisfied: kiwisolver>=1.0.1 in /usr/local/lib/python3.10/dist-packages (from matplotlib->pygad) (1.4.5)\n",
            "Requirement already satisfied: packaging>=20.0 in /usr/local/lib/python3.10/dist-packages (from matplotlib->pygad) (23.2)\n",
            "Requirement already satisfied: pillow>=6.2.0 in /usr/local/lib/python3.10/dist-packages (from matplotlib->pygad) (9.4.0)\n",
            "Requirement already satisfied: pyparsing>=2.3.1 in /usr/local/lib/python3.10/dist-packages (from matplotlib->pygad) (3.1.1)\n",
            "Requirement already satisfied: python-dateutil>=2.7 in /usr/local/lib/python3.10/dist-packages (from matplotlib->pygad) (2.8.2)\n",
            "Requirement already satisfied: mpmath>=0.19 in /usr/local/lib/python3.10/dist-packages (from sympy->torch) (1.3.0)\n",
            "Requirement already satisfied: six>=1.5 in /usr/local/lib/python3.10/dist-packages (from python-dateutil>=2.7->matplotlib->pygad) (1.16.0)\n",
            "Installing collected packages: pygad\n",
            "Successfully installed pygad-3.2.0\n"
          ]
        }
      ],
      "source": [
        "!pip install torch pygad"
      ]
    },
    {
      "cell_type": "code",
      "source": [
        "import numpy as np\n",
        "#import pygad\n",
        "import torch\n",
        "import torch.nn as nn"
      ],
      "metadata": {
        "id": "cLr18B3ET78D"
      },
      "execution_count": 241,
      "outputs": []
    },
    {
      "cell_type": "code",
      "source": [
        "X = torch.rand(1000, 2)"
      ],
      "metadata": {
        "id": "if7VM3k4XSdo"
      },
      "execution_count": 229,
      "outputs": []
    },
    {
      "cell_type": "code",
      "source": [
        "y = torch.matmul(X, torch.Tensor([1, 2]).t())"
      ],
      "metadata": {
        "id": "sL2WbIvxXcsX"
      },
      "execution_count": 230,
      "outputs": []
    },
    {
      "cell_type": "code",
      "source": [
        "class IsNeuronAct(nn.Module):\n",
        "\n",
        "  def __init__(self, mask: torch.Tensor):\n",
        "      super(IsNeuronAct, self).__init__()\n",
        "      self.mask = nn.Parameter(torch.Tensor(mask), requires_grad=False)\n",
        "\n",
        "  def forward(self, x: torch.Tensor) -> torch.Tensor:\n",
        "    return x * self.mask"
      ],
      "metadata": {
        "id": "_zc_S3CsX0iX"
      },
      "execution_count": 231,
      "outputs": []
    },
    {
      "cell_type": "code",
      "source": [
        "class MLP(nn.Module):\n",
        "\n",
        "  def __init__(self, mask: torch.Tensor):\n",
        "    super(MLP, self).__init__()\n",
        "\n",
        "    self.l1 = nn.Linear(2, 1)\n",
        "    self.act1 = IsNeuronAct(mask)\n",
        "    self.l2 = nn.Linear(10, 1)\n",
        "\n",
        "  def forward(self, x: torch.Tensor) -> torch.Tensor:\n",
        "    #x = self.l1(x)\n",
        "    #x = nn.ReLU()(x)\n",
        "    #x = self.act1(x)\n",
        "    return self.l1(x)"
      ],
      "metadata": {
        "id": "O0-GWidlXrNi"
      },
      "execution_count": 232,
      "outputs": []
    },
    {
      "cell_type": "code",
      "source": [
        "mask = torch.Tensor([1, 1, 1, 1, 1, 1, 1, 1, 1, 1])"
      ],
      "metadata": {
        "id": "4nw4AmIMXq2v"
      },
      "execution_count": 233,
      "outputs": []
    },
    {
      "cell_type": "code",
      "source": [
        "model = MLP(mask)"
      ],
      "metadata": {
        "id": "b82WDrTAcIhe"
      },
      "execution_count": 234,
      "outputs": []
    },
    {
      "cell_type": "code",
      "source": [
        "mse = nn.MSELoss()"
      ],
      "metadata": {
        "id": "qlw4f-nndRS9"
      },
      "execution_count": 235,
      "outputs": []
    },
    {
      "cell_type": "code",
      "source": [
        "opt = torch.optim.SGD(model.parameters(), lr=0.01)"
      ],
      "metadata": {
        "id": "8kjcfKv3dSDY"
      },
      "execution_count": 236,
      "outputs": []
    },
    {
      "cell_type": "code",
      "source": [
        "num_epochs = 10\n",
        "for epoch in range(num_epochs):\n",
        "\n",
        "    outputs = model(X)\n",
        "\n",
        "    loss = mse(outputs, y.view(-1, 1))\n",
        "\n",
        "    opt.zero_grad()\n",
        "\n",
        "    loss.backward()\n",
        "\n",
        "    opt.step()\n",
        "\n",
        "  if (epoch + 1) % 10 == 0:\n",
        "    print(f'Epoch [{epoch+1}/{num_epochs}], Loss: {loss.item():.4f}')\n"
      ],
      "metadata": {
        "colab": {
          "base_uri": "https://localhost:8080/"
        },
        "id": "4ZTLlPhldG8P",
        "outputId": "f2ca93e4-408f-4dfd-d8fb-c3a0f42d91bc"
      },
      "execution_count": 237,
      "outputs": [
        {
          "output_type": "stream",
          "name": "stdout",
          "text": [
            "Epoch [10/10], Loss: 2.9291\n"
          ]
        },
        {
          "output_type": "stream",
          "name": "stderr",
          "text": [
            "/usr/local/lib/python3.10/dist-packages/torch/nn/modules/loss.py:535: UserWarning: Using a target size (torch.Size([1000])) that is different to the input size (torch.Size([1000, 1])). This will likely lead to incorrect results due to broadcasting. Please ensure they have the same size.\n",
            "  return F.mse_loss(input, target, reduction=self.reduction)\n"
          ]
        }
      ]
    },
    {
      "cell_type": "code",
      "source": [
        "params = list(model.parameters())"
      ],
      "metadata": {
        "id": "Hawe0-WrdtBm"
      },
      "execution_count": 238,
      "outputs": []
    },
    {
      "cell_type": "code",
      "source": [
        "torch.matmul(params[1].data, params[0].data)"
      ],
      "metadata": {
        "colab": {
          "base_uri": "https://localhost:8080/"
        },
        "id": "l8u0GhsGeRCQ",
        "outputId": "adcffa1d-8d7a-4e7a-9d54-9c508a0c4e49"
      },
      "execution_count": 240,
      "outputs": [
        {
          "output_type": "execute_result",
          "data": {
            "text/plain": [
              "tensor([-0.0006,  0.0007])"
            ]
          },
          "metadata": {},
          "execution_count": 240
        }
      ]
    },
    {
      "cell_type": "code",
      "source": [
        "model(torch.Tensor([1, 0]))"
      ],
      "metadata": {
        "colab": {
          "base_uri": "https://localhost:8080/"
        },
        "id": "BluP-TOkgeJT",
        "outputId": "b9d9fe4b-28e4-4947-a238-10ab1b7f8e97"
      },
      "execution_count": 228,
      "outputs": [
        {
          "output_type": "execute_result",
          "data": {
            "text/plain": [
              "tensor([0.2615], grad_fn=<ViewBackward0>)"
            ]
          },
          "metadata": {},
          "execution_count": 228
        }
      ]
    },
    {
      "cell_type": "code",
      "source": [
        "weights = [2, 5, 10, 5, 2]\n",
        "values = [20, 30, 50, 10, 15]\n",
        "max_weight = 15"
      ],
      "metadata": {
        "id": "nCpl608oVkyD"
      },
      "execution_count": 72,
      "outputs": []
    },
    {
      "cell_type": "code",
      "source": [
        "def fitness(ga_instance, solution, solution_idx):\n",
        "    print(solution)\n",
        "    total_value = np.sum(solution * values)\n",
        "    total_weight = np.sum(solution * weights)\n",
        "    if total_weight <= max_weight:\n",
        "        return total_value\n",
        "    else:\n",
        "        return 0"
      ],
      "metadata": {
        "id": "Kx9tVvP2VoFH"
      },
      "execution_count": 73,
      "outputs": []
    },
    {
      "cell_type": "code",
      "source": [
        "num_genes = len(weights)\n",
        "num_generations = 50\n",
        "population_size = 50\n",
        "\n",
        "initial_population = np.random.choice([0, 1], size=(population_size, num_genes))"
      ],
      "metadata": {
        "id": "TAMRrshiVx_L"
      },
      "execution_count": 74,
      "outputs": []
    },
    {
      "cell_type": "code",
      "source": [
        "ga_instance = pygad.GA(\n",
        "    num_generations=num_generations,\n",
        "    num_parents_mating=10,\n",
        "    initial_population=initial_population.copy(),\n",
        "    fitness_func=fitness,\n",
        "    mutation_type=\"random\",\n",
        "    crossover_probability=0.8,\n",
        "    mutation_probability=0.2,\n",
        "    parent_selection_type=\"rank\",\n",
        "    crossover_type=\"single_point\",\n",
        "    keep_parents=10,\n",
        "    gene_type=int,\n",
        ")"
      ],
      "metadata": {
        "id": "tz5corh_VsQd"
      },
      "execution_count": 75,
      "outputs": []
    },
    {
      "cell_type": "code",
      "source": [
        "ga_instance.run()"
      ],
      "metadata": {
        "colab": {
          "base_uri": "https://localhost:8080/"
        },
        "id": "K5x8fsweV0ko",
        "outputId": "876add21-d34f-4f45-cf85-535615d79f48"
      },
      "execution_count": 76,
      "outputs": [
        {
          "output_type": "stream",
          "name": "stdout",
          "text": [
            "[1 0 1 1 0]\n",
            "[0 0 0 0 1]\n",
            "[0 0 0 1 0]\n",
            "[0 1 1 1 1]\n",
            "[1 1 0 1 1]\n",
            "[0 1 1 1 0]\n",
            "[1 1 0 0 0]\n",
            "[0 1 1 1 1]\n",
            "[0 0 0 0 1]\n",
            "[0 1 1 1 0]\n",
            "[0 1 0 1 1]\n",
            "[1 0 0 0 0]\n",
            "[0 0 0 1 0]\n",
            "[1 0 0 0 1]\n",
            "[1 1 1 1 0]\n",
            "[0 0 0 0 1]\n",
            "[1 0 1 0 0]\n",
            "[1 0 0 1 0]\n",
            "[0 1 0 0 0]\n",
            "[1 0 0 0 1]\n",
            "[1 0 1 0 0]\n",
            "[0 1 1 1 0]\n",
            "[1 0 1 1 1]\n",
            "[1 1 0 1 1]\n",
            "[0 1 0 0 1]\n",
            "[1 1 0 0 0]\n",
            "[1 1 1 1 1]\n",
            "[0 0 0 1 1]\n",
            "[1 0 0 1 1]\n",
            "[1 1 1 1 0]\n",
            "[1 1 0 1 1]\n",
            "[0 1 0 0 1]\n",
            "[1 1 1 1 0]\n",
            "[1 0 0 1 0]\n",
            "[0 1 0 0 1]\n",
            "[0 1 1 0 0]\n",
            "[0 1 1 0 1]\n",
            "[1 0 1 1 0]\n",
            "[0 1 0 1 1]\n",
            "[1 1 0 1 1]\n",
            "[0 0 1 1 1]\n",
            "[0 1 0 0 0]\n",
            "[1 1 0 0 0]\n",
            "[0 0 0 1 0]\n",
            "[0 1 0 0 1]\n",
            "[1 0 0 0 0]\n",
            "[0 0 0 0 1]\n",
            "[1 0 0 0 1]\n",
            "[1 0 0 0 0]\n",
            "[1 0 1 1 1]\n",
            "[1 0 0 0 0]\n",
            "[0 1 1 1 1]\n",
            "[0 0 0 1 1]\n",
            "[1 0 1 1 1]\n",
            "[0 0 1 0 0]\n",
            "[0 0 0 0 0]\n",
            "[0 0 1 1 0]\n",
            "[1 1 1 1 0]\n",
            "[1 0 1 1 1]\n",
            "[0 0 1 1 0]\n",
            "[0 1 1 0 1]\n",
            "[0 0 0 0 0]\n",
            "[0 0 1 0 1]\n",
            "[0 0 1 1 0]\n",
            "[0 0 1 1 0]\n",
            "[1 0 1 1 1]\n",
            "[1 1 1 1 0]\n",
            "[0 1 1 0 1]\n",
            "[1 0 1 0 0]\n",
            "[1 0 1 1 1]\n",
            "[0 1 1 1 1]\n",
            "[1 0 1 1 1]\n",
            "[0 1 1 0 1]\n",
            "[1 0 1 0 1]\n",
            "[0 0 1 1 0]\n",
            "[0 0 1 1 0]\n",
            "[1 0 1 1 0]\n",
            "[1 1 1 1 1]\n",
            "[0 1 1 1 1]\n",
            "[0 1 1 1 1]\n",
            "[0 0 1 1 0]\n",
            "[1 0 1 1 0]\n",
            "[0 1 0 1 1]\n",
            "[1 1 0 0 0]\n",
            "[1 0 1 1 0]\n",
            "[1 0 1 0 1]\n",
            "[0 1 0 1 1]\n",
            "[0 1 0 1 1]\n",
            "[1 0 1 1 0]\n",
            "[0 1 0 1 0]\n",
            "[0 1 1 1 1]\n",
            "[1 0 1 0 0]\n",
            "[1 0 1 1 0]\n",
            "[0 0 0 1 1]\n",
            "[0 1 0 1 0]\n",
            "[0 0 1 1 0]\n",
            "[0 0 0 1 1]\n",
            "[1 1 1 0 0]\n",
            "[1 0 0 1 0]\n",
            "[0 0 1 1 0]\n",
            "[0 0 1 1 1]\n",
            "[0 0 0 0 1]\n",
            "[1 1 1 1 1]\n",
            "[0 1 1 1 0]\n",
            "[1 1 1 0 0]\n",
            "[0 0 0 0 1]\n",
            "[0 0 0 1 0]\n",
            "[0 1 1 1 0]\n",
            "[0 1 1 1 0]\n",
            "[0 1 1 1 0]\n",
            "[0 1 0 1 0]\n",
            "[0 0 1 1 1]\n",
            "[0 0 0 1 1]\n",
            "[0 0 1 0 0]\n",
            "[1 0 0 1 1]\n",
            "[1 0 0 1 1]\n",
            "[0 0 0 1 1]\n",
            "[0 1 1 0 0]\n",
            "[1 1 1 1 1]\n",
            "[1 0 0 0 1]\n",
            "[1 0 0 0 0]\n",
            "[1 0 0 0 0]\n",
            "[1 0 0 1 1]\n",
            "[1 0 0 0 0]\n",
            "[0 1 1 0 1]\n",
            "[0 0 1 0 0]\n",
            "[0 1 1 0 0]\n",
            "[0 1 0 1 1]\n",
            "[0 0 1 1 0]\n",
            "[1 0 0 1 1]\n",
            "[1 0 0 0 0]\n",
            "[1 0 1 0 0]\n",
            "[1 0 0 0 0]\n",
            "[0 0 0 1 1]\n",
            "[0 1 1 1 1]\n",
            "[1 1 1 0 1]\n",
            "[0 0 1 1 0]\n",
            "[1 0 0 1 1]\n",
            "[0 0 0 1 0]\n",
            "[0 0 0 1 1]\n",
            "[0 0 1 0 1]\n",
            "[1 0 0 0 0]\n",
            "[1 0 0 1 1]\n",
            "[1 0 0 1 1]\n",
            "[0 1 0 1 1]\n",
            "[0 0 0 0 1]\n",
            "[0 0 0 1 1]\n",
            "[0 0 0 0 1]\n",
            "[1 0 0 1 0]\n",
            "[0 0 1 0 1]\n",
            "[1 0 1 0 0]\n",
            "[1 0 0 0 0]\n",
            "[0 0 1 1 0]\n",
            "[0 1 0 0 0]\n",
            "[0 0 1 1 0]\n",
            "[0 0 1 1 0]\n",
            "[0 0 0 1 1]\n",
            "[0 0 1 1 0]\n",
            "[0 0 0 1 0]\n",
            "[0 1 0 1 0]\n",
            "[0 0 0 1 0]\n",
            "[0 0 1 1 0]\n",
            "[0 1 0 0 1]\n",
            "[0 1 0 0 0]\n",
            "[0 0 0 1 1]\n",
            "[1 0 0 1 0]\n",
            "[0 0 1 1 0]\n",
            "[0 0 0 1 1]\n",
            "[1 0 1 0 0]\n",
            "[1 0 1 0 0]\n",
            "[0 0 1 0 1]\n",
            "[0 0 1 0 1]\n",
            "[0 0 0 1 1]\n",
            "[1 0 1 1 0]\n",
            "[0 0 1 0 0]\n",
            "[1 0 0 0 0]\n",
            "[1 0 0 1 0]\n",
            "[1 0 0 0 0]\n",
            "[1 0 0 0 0]\n",
            "[0 0 1 0 0]\n",
            "[1 0 0 0 0]\n",
            "[0 0 1 0 0]\n",
            "[0 0 0 1 0]\n",
            "[0 0 0 1 1]\n",
            "[0 0 1 0 1]\n",
            "[1 0 0 1 1]\n",
            "[1 0 0 0 0]\n",
            "[0 0 0 0 1]\n",
            "[0 0 1 0 0]\n",
            "[0 0 0 1 0]\n",
            "[0 0 1 0 0]\n",
            "[0 0 0 1 0]\n",
            "[0 0 1 0 1]\n",
            "[0 0 0 1 0]\n",
            "[0 0 0 1 0]\n",
            "[0 0 0 1 0]\n",
            "[0 0 0 1 0]\n",
            "[1 0 0 0 0]\n",
            "[0 0 0 1 0]\n",
            "[0 0 1 0 1]\n",
            "[0 0 1 0 1]\n",
            "[0 0 1 0 0]\n",
            "[0 0 1 1 0]\n",
            "[0 0 1 1 0]\n",
            "[0 0 0 0 1]\n",
            "[0 0 0 0 1]\n",
            "[0 0 0 0 1]\n",
            "[0 0 0 0 1]\n",
            "[0 0 1 0 0]\n",
            "[0 0 1 0 0]\n",
            "[0 0 1 0 1]\n",
            "[0 0 1 1 0]\n",
            "[0 0 1 1 0]\n",
            "[0 0 1 0 0]\n",
            "[0 0 1 0 0]\n",
            "[0 0 0 0 1]\n",
            "[0 0 1 0 0]\n",
            "[0 0 0 0 1]\n",
            "[0 0 0 1 0]\n",
            "[0 0 0 0 1]\n",
            "[0 0 1 0 0]\n",
            "[0 0 1 1 0]\n",
            "[0 0 1 1 0]\n",
            "[0 0 1 1 0]\n",
            "[0 0 1 0 0]\n",
            "[0 0 1 0 0]\n"
          ]
        }
      ]
    },
    {
      "cell_type": "code",
      "source": [
        "solution, solution_fitness, solution_idx = ga_instance.best_solution()\n",
        "\n",
        "print(\"Best solution:\", solution)\n",
        "print(\"Fitness value:\", solution_fitness)\n",
        "print(\"Total weight:\", np.sum(solution * weights))"
      ],
      "metadata": {
        "colab": {
          "base_uri": "https://localhost:8080/"
        },
        "id": "iQBrtHB_WPnm",
        "outputId": "7ffce762-8e24-4c0b-df90-4a0baa4bfe1f"
      },
      "execution_count": 77,
      "outputs": [
        {
          "output_type": "stream",
          "name": "stdout",
          "text": [
            "Best solution: [1 0 1 0 1]\n",
            "Fitness value: 85\n",
            "Total weight: 14\n"
          ]
        }
      ]
    },
    {
      "cell_type": "code",
      "source": [],
      "metadata": {
        "id": "1CHYIy8UWfgO"
      },
      "execution_count": null,
      "outputs": []
    }
  ]
}